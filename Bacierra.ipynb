{
  "nbformat": 4,
  "nbformat_minor": 0,
  "metadata": {
    "colab": {
      "provenance": [],
      "authorship_tag": "ABX9TyOR3k8YZimTXUKtCkn2BOm1",
      "include_colab_link": true
    },
    "kernelspec": {
      "name": "python3",
      "display_name": "Python 3"
    },
    "language_info": {
      "name": "python"
    }
  },
  "cells": [
    {
      "cell_type": "markdown",
      "metadata": {
        "id": "view-in-github",
        "colab_type": "text"
      },
      "source": [
        "<a href=\"https://colab.research.google.com/github/Bacierramiles/dsp/blob/main/Bacierra.ipynb\" target=\"_parent\"><img src=\"https://colab.research.google.com/assets/colab-badge.svg\" alt=\"Open In Colab\"/></a>"
      ]
    },
    {
      "cell_type": "code",
      "execution_count": 1,
      "metadata": {
        "colab": {
          "base_uri": "https://localhost:8080/"
        },
        "id": "I8o_aQbBRsu_",
        "outputId": "9c7d5bf5-3cee-49cd-f38c-4fdd4f9b39c6"
      },
      "outputs": [
        {
          "output_type": "stream",
          "name": "stdout",
          "text": [
            "--2024-10-08 13:26:32--  http://clone/\n",
            "Resolving clone (clone)... failed: Name or service not known.\n",
            "wget: unable to resolve host address ‘clone’\n",
            "--2024-10-08 13:26:32--  https://github.com/AllenDowney/ThinkDSP.git\n",
            "Resolving github.com (github.com)... 140.82.121.4\n",
            "Connecting to github.com (github.com)|140.82.121.4|:443... connected.\n",
            "HTTP request sent, awaiting response... 301 Moved Permanently\n",
            "Location: https://github.com/AllenDowney/ThinkDSP [following]\n",
            "--2024-10-08 13:26:32--  https://github.com/AllenDowney/ThinkDSP\n",
            "Reusing existing connection to github.com:443.\n",
            "HTTP request sent, awaiting response... 200 OK\n",
            "Length: unspecified [text/html]\n",
            "Saving to: ‘ThinkDSP.git’\n",
            "\n",
            "ThinkDSP.git            [ <=>                ] 348.05K  --.-KB/s    in 0.04s   \n",
            "\n",
            "2024-10-08 13:26:33 (9.52 MB/s) - ‘ThinkDSP.git’ saved [356408]\n",
            "\n",
            "FINISHED --2024-10-08 13:26:33--\n",
            "Total wall clock time: 0.7s\n",
            "Downloaded: 1 files, 348K in 0.04s (9.52 MB/s)\n"
          ]
        }
      ],
      "source": [
        "!wget clone https://github.com/AllenDowney/ThinkDSP.git"
      ]
    },
    {
      "cell_type": "code",
      "source": [
        "# Get thinkdsp.py\n",
        "\n",
        "import os\n",
        "\n",
        "if not os.path.exists('thinkdsp.py'):\n",
        "    !wget https://github.com/AllenDowney/ThinkDSP/raw/master/code/thinkdsp.py"
      ],
      "metadata": {
        "colab": {
          "base_uri": "https://localhost:8080/"
        },
        "id": "HjIB3WBnX4Db",
        "outputId": "b8d3374e-9ac9-4891-856e-aee556f2768d"
      },
      "execution_count": 4,
      "outputs": [
        {
          "output_type": "stream",
          "name": "stdout",
          "text": [
            "--2024-10-08 13:44:24--  https://github.com/AllenDowney/ThinkDSP/raw/master/code/thinkdsp.py\n",
            "Resolving github.com (github.com)... 140.82.121.3\n",
            "Connecting to github.com (github.com)|140.82.121.3|:443... connected.\n",
            "HTTP request sent, awaiting response... 302 Found\n",
            "Location: https://raw.githubusercontent.com/AllenDowney/ThinkDSP/master/code/thinkdsp.py [following]\n",
            "--2024-10-08 13:44:25--  https://raw.githubusercontent.com/AllenDowney/ThinkDSP/master/code/thinkdsp.py\n",
            "Resolving raw.githubusercontent.com (raw.githubusercontent.com)... 185.199.110.133, 185.199.109.133, 185.199.111.133, ...\n",
            "Connecting to raw.githubusercontent.com (raw.githubusercontent.com)|185.199.110.133|:443... connected.\n",
            "HTTP request sent, awaiting response... 200 OK\n",
            "Length: 48574 (47K) [text/plain]\n",
            "Saving to: ‘thinkdsp.py’\n",
            "\n",
            "thinkdsp.py         100%[===================>]  47.44K  --.-KB/s    in 0.004s  \n",
            "\n",
            "2024-10-08 13:44:25 (12.2 MB/s) - ‘thinkdsp.py’ saved [48574/48574]\n",
            "\n"
          ]
        }
      ]
    },
    {
      "cell_type": "code",
      "source": [
        "from thinkdsp import read_wave\n",
        "\n",
        "myVoice = read_wave ('thevoiceECE.wav')\n",
        "spec = myVoice.make_spectrum()\n",
        "\n",
        "spec.plot()"
      ],
      "metadata": {
        "colab": {
          "base_uri": "https://localhost:8080/",
          "height": 432
        },
        "id": "ofazbHRxUnfo",
        "outputId": "464edfca-4198-4c59-f53a-9d8259f84a74"
      },
      "execution_count": 5,
      "outputs": [
        {
          "output_type": "display_data",
          "data": {
            "text/plain": [
              "<Figure size 640x480 with 1 Axes>"
            ],
            "image/png": "[encoded data removed]"
          },
          "metadata": {}
        }
      ]
    }
  ]
}